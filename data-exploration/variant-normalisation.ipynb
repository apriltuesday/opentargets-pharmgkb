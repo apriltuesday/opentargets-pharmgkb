{
 "cells": [
  {
   "cell_type": "code",
   "execution_count": 2,
   "id": "b74cee2b-4419-4c95-97cd-040feea93312",
   "metadata": {
    "pycharm": {
     "name": "#%%\n"
    }
   },
   "outputs": [],
   "source": [
    "import os"
   ]
  },
  {
   "cell_type": "code",
   "execution_count": 3,
   "id": "87000979-c0ad-47d0-9cb3-0dc334f1e58f",
   "metadata": {
    "pycharm": {
     "name": "#%%\n"
    }
   },
   "outputs": [],
   "source": [
    "from opentargets_pharmgkb.pandas_utils import read_tsv_to_df\n",
    "\n",
    "import pandas as pd"
   ]
  },
  {
   "cell_type": "code",
   "execution_count": 4,
   "id": "27861f6f-9343-4c44-be4f-4bf70e39eee4",
   "metadata": {
    "pycharm": {
     "name": "#%%\n"
    }
   },
   "outputs": [],
   "source": [
    "data_dir = '/home/april/projects/opentargets/pharmgkb/vep-vs-pgkb'"
   ]
  },
  {
   "cell_type": "code",
   "execution_count": null,
   "id": "6c87bbc9-4c87-40a0-84d5-de9249f50192",
   "metadata": {
    "pycharm": {
     "name": "#%%\n"
    }
   },
   "outputs": [],
   "source": [
    "# Download new data (2024-03-05)\n",
    "!cd {data_dir}\n",
    "\n",
    "!wget -q https://api.pharmgkb.org/v1/download/file/data/clinicalAnnotations.zip\n",
    "!wget -q https://api.pharmgkb.org/v1/download/file/data/variants.zip\n",
    "\n",
    "!unzip -jq clinicalAnnotations.zip \"*.tsv\" -d {data_dir}\n",
    "!unzip -jq variants.zip \"*.tsv\" -d {data_dir}\n",
    "\n",
    "!rm clinicalAnnotations.zip variants.zip"
   ]
  },
  {
   "cell_type": "code",
   "execution_count": 58,
   "id": "e6a46840-39c0-4518-8a05-9258568cda20",
   "metadata": {
    "pycharm": {
     "name": "#%%\n"
    }
   },
   "outputs": [],
   "source": [
    "pd.set_option('display.max_columns', None)\n",
    "pd.set_option('display.max_rows', 100)\n",
    "pd.set_option('display.max_colwidth', None)"
   ]
  },
  {
   "cell_type": "code",
   "execution_count": 6,
   "id": "b7f9fbb2-a8a3-47d2-8275-9eb8c21f9a93",
   "metadata": {
    "pycharm": {
     "name": "#%%\n"
    }
   },
   "outputs": [],
   "source": [
    "clinical_annot_path = os.path.join(data_dir, 'clinical_annotations.tsv')\n",
    "clinical_alleles_path = os.path.join(data_dir, 'clinical_ann_alleles.tsv')\n",
    "variants_path = os.path.join(data_dir, 'variants.tsv')\n",
    "fasta_path = '/home/april/projects/opentargets/pharmgkb/assembly/GCF_000001405.40_GRCh38.p14_genomic.fna'\n",
    "\n",
    "clinical_annot_table = read_tsv_to_df(clinical_annot_path)\n",
    "clinical_alleles_table = read_tsv_to_df(clinical_alleles_path)\n",
    "variants_table = read_tsv_to_df(variants_path)"
   ]
  },
  {
   "cell_type": "code",
   "execution_count": 7,
   "id": "4d823e4f-3e41-4bc6-a1d3-003c6bd14898",
   "metadata": {
    "pycharm": {
     "name": "#%%\n"
    }
   },
   "outputs": [],
   "source": [
    "# Table we're not yet using but should!\n",
    "variant_annot_table = read_tsv_to_df('/home/april/projects/opentargets/pharmgkb/variantAnnotations/var_fa_ann.tsv')"
   ]
  },
  {
   "cell_type": "code",
   "execution_count": 22,
   "id": "d22115ea-56f6-404d-9839-c91c8ed74a89",
   "metadata": {
    "pycharm": {
     "name": "#%%\n"
    }
   },
   "outputs": [
    {
     "data": {
      "text/html": [
       "<div>\n",
       "<style scoped>\n",
       "    .dataframe tbody tr th:only-of-type {\n",
       "        vertical-align: middle;\n",
       "    }\n",
       "\n",
       "    .dataframe tbody tr th {\n",
       "        vertical-align: top;\n",
       "    }\n",
       "\n",
       "    .dataframe thead th {\n",
       "        text-align: right;\n",
       "    }\n",
       "</style>\n",
       "<table border=\"1\" class=\"dataframe\">\n",
       "  <thead>\n",
       "    <tr style=\"text-align: right;\">\n",
       "      <th></th>\n",
       "      <th>Variant Annotation ID</th>\n",
       "      <th>Variant/Haplotypes</th>\n",
       "      <th>Gene</th>\n",
       "      <th>Drug(s)</th>\n",
       "      <th>PMID</th>\n",
       "      <th>Phenotype Category</th>\n",
       "      <th>Significance</th>\n",
       "      <th>Notes</th>\n",
       "      <th>Sentence</th>\n",
       "      <th>Alleles</th>\n",
       "      <th>Specialty Population</th>\n",
       "      <th>Assay type</th>\n",
       "      <th>Metabolizer types</th>\n",
       "      <th>isPlural</th>\n",
       "      <th>Is/Is Not associated</th>\n",
       "      <th>Direction of effect</th>\n",
       "      <th>Functional terms</th>\n",
       "      <th>Gene/gene product</th>\n",
       "      <th>When treated with/exposed to/when assayed with</th>\n",
       "      <th>Multiple drugs And/or</th>\n",
       "      <th>Cell type</th>\n",
       "      <th>Comparison Allele(s) or Genotype(s)</th>\n",
       "      <th>Comparison Metabolizer types</th>\n",
       "    </tr>\n",
       "  </thead>\n",
       "  <tbody>\n",
       "    <tr>\n",
       "      <th>0</th>\n",
       "      <td>1451148445</td>\n",
       "      <td>CYP2C19*1, CYP2C19*17</td>\n",
       "      <td>CYP2C19</td>\n",
       "      <td>normeperidine</td>\n",
       "      <td>30902024</td>\n",
       "      <td>NaN</td>\n",
       "      <td>not stated</td>\n",
       "      <td>In other in vitro experiments, normeperidine formation was significantly correlated with CYP2C19 activity, as measured by S-mephenytoin 4-hydroxylation.</td>\n",
       "      <td>CYP2C19 *17/*17 is associated with increased formation of normeperidine as compared to CYP2C19 *1/*1 + *1/*17.</td>\n",
       "      <td>*17/*17</td>\n",
       "      <td>NaN</td>\n",
       "      <td>in human liver microsomes</td>\n",
       "      <td>NaN</td>\n",
       "      <td>Is</td>\n",
       "      <td>Associated with</td>\n",
       "      <td>increased</td>\n",
       "      <td>formation of</td>\n",
       "      <td>NaN</td>\n",
       "      <td>NaN</td>\n",
       "      <td>NaN</td>\n",
       "      <td>NaN</td>\n",
       "      <td>*1/*1 + *1/*17</td>\n",
       "      <td>NaN</td>\n",
       "    </tr>\n",
       "    <tr>\n",
       "      <th>1</th>\n",
       "      <td>1447814273</td>\n",
       "      <td>rs9923231</td>\n",
       "      <td>VKORC1</td>\n",
       "      <td>NaN</td>\n",
       "      <td>26847243</td>\n",
       "      <td>Other</td>\n",
       "      <td>no</td>\n",
       "      <td>NaN</td>\n",
       "      <td>Allele T is not associated with transcription of VKORC1 in HepG2 cells as compared to allele C.</td>\n",
       "      <td>T</td>\n",
       "      <td>NaN</td>\n",
       "      <td>luciferase assay</td>\n",
       "      <td>NaN</td>\n",
       "      <td>Is</td>\n",
       "      <td>Not associated with</td>\n",
       "      <td>NaN</td>\n",
       "      <td>transcription of</td>\n",
       "      <td>VKORC1</td>\n",
       "      <td>NaN</td>\n",
       "      <td>NaN</td>\n",
       "      <td>in HepG2 cells</td>\n",
       "      <td>C</td>\n",
       "      <td>NaN</td>\n",
       "    </tr>\n",
       "    <tr>\n",
       "      <th>2</th>\n",
       "      <td>1447814277</td>\n",
       "      <td>rs56314408</td>\n",
       "      <td>VKORC1</td>\n",
       "      <td>NaN</td>\n",
       "      <td>26847243</td>\n",
       "      <td>Other</td>\n",
       "      <td>yes</td>\n",
       "      <td>In the European population, this SNPs is in high LD with rs9923231 but not other populations. This SNP disrupts a binding motif for transcription factor TFAP2A/C.</td>\n",
       "      <td>Allele C is associated with increased transcription of VKORC1 in HepG2 cells as compared to allele T.</td>\n",
       "      <td>C</td>\n",
       "      <td>NaN</td>\n",
       "      <td>luciferase assay</td>\n",
       "      <td>NaN</td>\n",
       "      <td>Is</td>\n",
       "      <td>Associated with</td>\n",
       "      <td>increased</td>\n",
       "      <td>transcription of</td>\n",
       "      <td>VKORC1</td>\n",
       "      <td>NaN</td>\n",
       "      <td>NaN</td>\n",
       "      <td>in HepG2 cells</td>\n",
       "      <td>T</td>\n",
       "      <td>NaN</td>\n",
       "    </tr>\n",
       "    <tr>\n",
       "      <th>3</th>\n",
       "      <td>1447990384</td>\n",
       "      <td>rs1065852</td>\n",
       "      <td>CYP2D6</td>\n",
       "      <td>bufuralol</td>\n",
       "      <td>2211621</td>\n",
       "      <td>Metabolism/PK</td>\n",
       "      <td>not stated</td>\n",
       "      <td>In vitro experiments showed a significant decrease in CYP2D6 activity for the variant construct expressed in COS-1 cells as compared to wild-type.</td>\n",
       "      <td>Allele A is associated with decreased activity of CYP2D6 when assayed with bufuralol in COS-1 cells as compared to allele G.</td>\n",
       "      <td>A</td>\n",
       "      <td>NaN</td>\n",
       "      <td>NaN</td>\n",
       "      <td>NaN</td>\n",
       "      <td>Is</td>\n",
       "      <td>Associated with</td>\n",
       "      <td>decreased</td>\n",
       "      <td>activity of</td>\n",
       "      <td>CYP2D6</td>\n",
       "      <td>when assayed with</td>\n",
       "      <td>NaN</td>\n",
       "      <td>in COS-1 cells</td>\n",
       "      <td>G</td>\n",
       "      <td>NaN</td>\n",
       "    </tr>\n",
       "    <tr>\n",
       "      <th>4</th>\n",
       "      <td>1448281185</td>\n",
       "      <td>CYP2B6*1, CYP2B6*6</td>\n",
       "      <td>CYP2B6</td>\n",
       "      <td>bupropion</td>\n",
       "      <td>27439448</td>\n",
       "      <td>Efficacy</td>\n",
       "      <td>yes</td>\n",
       "      <td>The ratio of hydroxybupropion versus bupropion (AUC_hyd/ AUC_bup) in terms of area under the time-concentration curve (AUC) was used to assay CYP2B6 activity.</td>\n",
       "      <td>CYP2B6 *1/*1 is associated with increased activity of CYP2B6 when assayed with bupropion as compared to CYP2B6 *1/*6.</td>\n",
       "      <td>*1/*1</td>\n",
       "      <td>NaN</td>\n",
       "      <td>NaN</td>\n",
       "      <td>NaN</td>\n",
       "      <td>Is</td>\n",
       "      <td>Associated with</td>\n",
       "      <td>increased</td>\n",
       "      <td>activity of</td>\n",
       "      <td>CYP2B6</td>\n",
       "      <td>when assayed with</td>\n",
       "      <td>NaN</td>\n",
       "      <td>NaN</td>\n",
       "      <td>*1/*6</td>\n",
       "      <td>NaN</td>\n",
       "    </tr>\n",
       "  </tbody>\n",
       "</table>\n",
       "</div>"
      ],
      "text/plain": [
       "  Variant Annotation ID     Variant/Haplotypes     Gene        Drug(s)  \\\n",
       "0            1451148445  CYP2C19*1, CYP2C19*17  CYP2C19  normeperidine   \n",
       "1            1447814273              rs9923231   VKORC1            NaN   \n",
       "2            1447814277             rs56314408   VKORC1            NaN   \n",
       "3            1447990384              rs1065852   CYP2D6      bufuralol   \n",
       "4            1448281185     CYP2B6*1, CYP2B6*6   CYP2B6      bupropion   \n",
       "\n",
       "       PMID Phenotype Category Significance  \\\n",
       "0  30902024                NaN   not stated   \n",
       "1  26847243              Other           no   \n",
       "2  26847243              Other          yes   \n",
       "3   2211621      Metabolism/PK   not stated   \n",
       "4  27439448           Efficacy          yes   \n",
       "\n",
       "                                                                                                                                                                Notes  \\\n",
       "0            In other in vitro experiments, normeperidine formation was significantly correlated with CYP2C19 activity, as measured by S-mephenytoin 4-hydroxylation.   \n",
       "1                                                                                                                                                                 NaN   \n",
       "2  In the European population, this SNPs is in high LD with rs9923231 but not other populations. This SNP disrupts a binding motif for transcription factor TFAP2A/C.   \n",
       "3                  In vitro experiments showed a significant decrease in CYP2D6 activity for the variant construct expressed in COS-1 cells as compared to wild-type.   \n",
       "4      The ratio of hydroxybupropion versus bupropion (AUC_hyd/ AUC_bup) in terms of area under the time-concentration curve (AUC) was used to assay CYP2B6 activity.   \n",
       "\n",
       "                                                                                                                       Sentence  \\\n",
       "0                CYP2C19 *17/*17 is associated with increased formation of normeperidine as compared to CYP2C19 *1/*1 + *1/*17.   \n",
       "1                               Allele T is not associated with transcription of VKORC1 in HepG2 cells as compared to allele C.   \n",
       "2                         Allele C is associated with increased transcription of VKORC1 in HepG2 cells as compared to allele T.   \n",
       "3  Allele A is associated with decreased activity of CYP2D6 when assayed with bufuralol in COS-1 cells as compared to allele G.   \n",
       "4         CYP2B6 *1/*1 is associated with increased activity of CYP2B6 when assayed with bupropion as compared to CYP2B6 *1/*6.   \n",
       "\n",
       "   Alleles Specialty Population                 Assay type Metabolizer types  \\\n",
       "0  *17/*17                  NaN  in human liver microsomes               NaN   \n",
       "1        T                  NaN           luciferase assay               NaN   \n",
       "2        C                  NaN           luciferase assay               NaN   \n",
       "3        A                  NaN                        NaN               NaN   \n",
       "4    *1/*1                  NaN                        NaN               NaN   \n",
       "\n",
       "  isPlural Is/Is Not associated Direction of effect  Functional terms  \\\n",
       "0       Is      Associated with           increased      formation of   \n",
       "1       Is  Not associated with                 NaN  transcription of   \n",
       "2       Is      Associated with           increased  transcription of   \n",
       "3       Is      Associated with           decreased       activity of   \n",
       "4       Is      Associated with           increased       activity of   \n",
       "\n",
       "  Gene/gene product When treated with/exposed to/when assayed with  \\\n",
       "0               NaN                                            NaN   \n",
       "1            VKORC1                                            NaN   \n",
       "2            VKORC1                                            NaN   \n",
       "3            CYP2D6                              when assayed with   \n",
       "4            CYP2B6                              when assayed with   \n",
       "\n",
       "  Multiple drugs And/or       Cell type Comparison Allele(s) or Genotype(s)  \\\n",
       "0                   NaN             NaN                      *1/*1 + *1/*17   \n",
       "1                   NaN  in HepG2 cells                                   C   \n",
       "2                   NaN  in HepG2 cells                                   T   \n",
       "3                   NaN  in COS-1 cells                                   G   \n",
       "4                   NaN             NaN                               *1/*6   \n",
       "\n",
       "  Comparison Metabolizer types  \n",
       "0                          NaN  \n",
       "1                          NaN  \n",
       "2                          NaN  \n",
       "3                          NaN  \n",
       "4                          NaN  "
      ]
     },
     "execution_count": 22,
     "metadata": {},
     "output_type": "execute_result"
    }
   ],
   "source": [
    "variant_annot_table.head()"
   ]
  },
  {
   "cell_type": "code",
   "execution_count": 70,
   "id": "c9c390b0-bb89-4cbe-b670-8eff82d4a422",
   "metadata": {
    "pycharm": {
     "name": "#%%\n"
    }
   },
   "outputs": [
    {
     "data": {
      "text/html": [
       "<div>\n",
       "<style scoped>\n",
       "    .dataframe tbody tr th:only-of-type {\n",
       "        vertical-align: middle;\n",
       "    }\n",
       "\n",
       "    .dataframe tbody tr th {\n",
       "        vertical-align: top;\n",
       "    }\n",
       "\n",
       "    .dataframe thead th {\n",
       "        text-align: right;\n",
       "    }\n",
       "</style>\n",
       "<table border=\"1\" class=\"dataframe\">\n",
       "  <thead>\n",
       "    <tr style=\"text-align: right;\">\n",
       "      <th></th>\n",
       "      <th>Variant Annotation ID</th>\n",
       "      <th>Variant/Haplotypes</th>\n",
       "      <th>Gene</th>\n",
       "      <th>Drug(s)</th>\n",
       "      <th>PMID</th>\n",
       "      <th>Phenotype Category</th>\n",
       "      <th>Significance</th>\n",
       "      <th>Notes</th>\n",
       "      <th>Sentence</th>\n",
       "      <th>Alleles</th>\n",
       "      <th>Specialty Population</th>\n",
       "      <th>Assay type</th>\n",
       "      <th>Metabolizer types</th>\n",
       "      <th>isPlural</th>\n",
       "      <th>Is/Is Not associated</th>\n",
       "      <th>Direction of effect</th>\n",
       "      <th>Functional terms</th>\n",
       "      <th>Gene/gene product</th>\n",
       "      <th>When treated with/exposed to/when assayed with</th>\n",
       "      <th>Multiple drugs And/or</th>\n",
       "      <th>Cell type</th>\n",
       "      <th>Comparison Allele(s) or Genotype(s)</th>\n",
       "      <th>Comparison Metabolizer types</th>\n",
       "    </tr>\n",
       "  </thead>\n",
       "  <tbody>\n",
       "    <tr>\n",
       "      <th>1127</th>\n",
       "      <td>1448125015</td>\n",
       "      <td>rs72549309</td>\n",
       "      <td>DPYD</td>\n",
       "      <td>fluorouracil</td>\n",
       "      <td>24648345</td>\n",
       "      <td>Metabolism/PK</td>\n",
       "      <td>not stated</td>\n",
       "      <td>Functional study. The del allele was associated with undetectable DPYD activity. Activity measured by conversion of 5-fluorouracil to 5-dihydrofluorouracil, the product of DPYD catabolism. Please note that this SNP was referred to by its amino acid change (F100[FS]) within the paper. Alleles have been complemented to the plus chromosomal strand.</td>\n",
       "      <td>Allele del is associated with decreased activity of DPYD when assayed with fluorouracil as compared to allele ATGA.</td>\n",
       "      <td>del</td>\n",
       "      <td>NaN</td>\n",
       "      <td>NaN</td>\n",
       "      <td>NaN</td>\n",
       "      <td>Is</td>\n",
       "      <td>Associated with</td>\n",
       "      <td>decreased</td>\n",
       "      <td>activity of</td>\n",
       "      <td>DPYD</td>\n",
       "      <td>when assayed with</td>\n",
       "      <td>NaN</td>\n",
       "      <td>NaN</td>\n",
       "      <td>ATGA</td>\n",
       "      <td>NaN</td>\n",
       "    </tr>\n",
       "    <tr>\n",
       "      <th>1363</th>\n",
       "      <td>1450960900</td>\n",
       "      <td>rs72549309</td>\n",
       "      <td>DPYD</td>\n",
       "      <td>NaN</td>\n",
       "      <td>9254861</td>\n",
       "      <td>Other</td>\n",
       "      <td>not stated</td>\n",
       "      <td>Dutch consanguineous family. Three individuals were homozygous for the *7 allele (described in the paper as \"delTCAT269-299\"). These individuals were the propositus, her mother and her brother. All three individuals were shown to be DPYD deficient as judged by enzymatic measurements in fibroblasts. The father was shown to have DPYD enzymatic activity in the heterozygous range, though he was found to be heterozygous for both the *2A and *7 alleles. The propositus had epilepsy and microcephaly, the mother had generalized tonic seizures, and the brother and father were normal.</td>\n",
       "      <td>Genotype del/del is associated with decreased activity of DPYD as compared to genotype ATGA/ATGA.</td>\n",
       "      <td>del/del</td>\n",
       "      <td>NaN</td>\n",
       "      <td>NaN</td>\n",
       "      <td>NaN</td>\n",
       "      <td>Is</td>\n",
       "      <td>Associated with</td>\n",
       "      <td>decreased</td>\n",
       "      <td>activity of</td>\n",
       "      <td>DPYD</td>\n",
       "      <td>NaN</td>\n",
       "      <td>NaN</td>\n",
       "      <td>NaN</td>\n",
       "      <td>ATGA/ATGA</td>\n",
       "      <td>NaN</td>\n",
       "    </tr>\n",
       "  </tbody>\n",
       "</table>\n",
       "</div>"
      ],
      "text/plain": [
       "     Variant Annotation ID Variant/Haplotypes  Gene       Drug(s)      PMID  \\\n",
       "1127            1448125015         rs72549309  DPYD  fluorouracil  24648345   \n",
       "1363            1450960900         rs72549309  DPYD           NaN   9254861   \n",
       "\n",
       "     Phenotype Category Significance  \\\n",
       "1127      Metabolism/PK   not stated   \n",
       "1363              Other   not stated   \n",
       "\n",
       "                                                                                                                                                                                                                                                                                                                                                                                                                                                                                                                                                                                                     Notes  \\\n",
       "1127                                                                                                                                                                                                                                           Functional study. The del allele was associated with undetectable DPYD activity. Activity measured by conversion of 5-fluorouracil to 5-dihydrofluorouracil, the product of DPYD catabolism. Please note that this SNP was referred to by its amino acid change (F100[FS]) within the paper. Alleles have been complemented to the plus chromosomal strand.   \n",
       "1363  Dutch consanguineous family. Three individuals were homozygous for the *7 allele (described in the paper as \"delTCAT269-299\"). These individuals were the propositus, her mother and her brother. All three individuals were shown to be DPYD deficient as judged by enzymatic measurements in fibroblasts. The father was shown to have DPYD enzymatic activity in the heterozygous range, though he was found to be heterozygous for both the *2A and *7 alleles. The propositus had epilepsy and microcephaly, the mother had generalized tonic seizures, and the brother and father were normal.   \n",
       "\n",
       "                                                                                                                 Sentence  \\\n",
       "1127  Allele del is associated with decreased activity of DPYD when assayed with fluorouracil as compared to allele ATGA.   \n",
       "1363                    Genotype del/del is associated with decreased activity of DPYD as compared to genotype ATGA/ATGA.   \n",
       "\n",
       "      Alleles Specialty Population Assay type Metabolizer types isPlural  \\\n",
       "1127      del                  NaN        NaN               NaN       Is   \n",
       "1363  del/del                  NaN        NaN               NaN       Is   \n",
       "\n",
       "     Is/Is Not associated Direction of effect Functional terms  \\\n",
       "1127      Associated with           decreased      activity of   \n",
       "1363      Associated with           decreased      activity of   \n",
       "\n",
       "     Gene/gene product When treated with/exposed to/when assayed with  \\\n",
       "1127              DPYD                              when assayed with   \n",
       "1363              DPYD                                            NaN   \n",
       "\n",
       "     Multiple drugs And/or Cell type Comparison Allele(s) or Genotype(s)  \\\n",
       "1127                   NaN       NaN                                ATGA   \n",
       "1363                   NaN       NaN                           ATGA/ATGA   \n",
       "\n",
       "     Comparison Metabolizer types  \n",
       "1127                          NaN  \n",
       "1363                          NaN  "
      ]
     },
     "execution_count": 70,
     "metadata": {},
     "output_type": "execute_result"
    }
   ],
   "source": [
    "variant_annot_table[variant_annot_table['Variant/Haplotypes'] == 'rs72549309']"
   ]
  },
  {
   "cell_type": "code",
   "execution_count": 23,
   "id": "cc137216-54ef-4d13-b47b-d3ff4dfb9d14",
   "metadata": {
    "pycharm": {
     "name": "#%%\n"
    }
   },
   "outputs": [
    {
     "data": {
      "text/html": [
       "<div>\n",
       "<style scoped>\n",
       "    .dataframe tbody tr th:only-of-type {\n",
       "        vertical-align: middle;\n",
       "    }\n",
       "\n",
       "    .dataframe tbody tr th {\n",
       "        vertical-align: top;\n",
       "    }\n",
       "\n",
       "    .dataframe thead th {\n",
       "        text-align: right;\n",
       "    }\n",
       "</style>\n",
       "<table border=\"1\" class=\"dataframe\">\n",
       "  <thead>\n",
       "    <tr style=\"text-align: right;\">\n",
       "      <th></th>\n",
       "      <th>Variant ID</th>\n",
       "      <th>Variant Name</th>\n",
       "      <th>Gene IDs</th>\n",
       "      <th>Gene Symbols</th>\n",
       "      <th>Location</th>\n",
       "      <th>Variant Annotation count</th>\n",
       "      <th>Clinical Annotation count</th>\n",
       "      <th>Level 1/2 Clinical Annotation count</th>\n",
       "      <th>Guideline Annotation count</th>\n",
       "      <th>Label Annotation count</th>\n",
       "      <th>Synonyms</th>\n",
       "    </tr>\n",
       "  </thead>\n",
       "  <tbody>\n",
       "    <tr>\n",
       "      <th>0</th>\n",
       "      <td>PA166156302</td>\n",
       "      <td>rs1000002</td>\n",
       "      <td>PA395</td>\n",
       "      <td>ABCC5</td>\n",
       "      <td>NC_000003.12:183917980</td>\n",
       "      <td>1</td>\n",
       "      <td>0</td>\n",
       "      <td>0</td>\n",
       "      <td>0</td>\n",
       "      <td>0</td>\n",
       "      <td>rs17623022, NG_047115.1:g.105031=, NC_000003.12:g.183917980C&gt;T, rs1000002, 1000002, rs60664316, 386508637, NC_000003.12:g.183917980=, NG_047115.1:g.105031G&gt;A, 17623022, rs386508637, NC_000003.11:g.183635768C&gt;T, NC_000003.11:g.183635768=, 60664316</td>\n",
       "    </tr>\n",
       "    <tr>\n",
       "      <th>1</th>\n",
       "      <td>PA166156746</td>\n",
       "      <td>rs1000113</td>\n",
       "      <td>PA142671652</td>\n",
       "      <td>IRGM</td>\n",
       "      <td>NC_000005.10:150860514</td>\n",
       "      <td>1</td>\n",
       "      <td>0</td>\n",
       "      <td>0</td>\n",
       "      <td>0</td>\n",
       "      <td>0</td>\n",
       "      <td>1000113, NC_000005.9:g.150240076=, NC_000005.9:g.150240076C&gt;T, 58108943, rs1000113, NC_000005.10:g.150860514=, rs58108943, NG_027809.2:g.18992=, NG_027809.2:g.18992C&gt;T, NC_000005.10:g.150860514C&gt;T, XM_011537641.1:c.531+11860C&gt;T</td>\n",
       "    </tr>\n",
       "    <tr>\n",
       "      <th>2</th>\n",
       "      <td>PA166195421</td>\n",
       "      <td>rs10006452</td>\n",
       "      <td>PA361</td>\n",
       "      <td>UGT2B7</td>\n",
       "      <td>NC_000004.12:69112090</td>\n",
       "      <td>1</td>\n",
       "      <td>0</td>\n",
       "      <td>0</td>\n",
       "      <td>0</td>\n",
       "      <td>0</td>\n",
       "      <td>10006452, NC_000004.12:g.69112090T&gt;A, 58882597, rs10006452, NC_000004.11:g.69977808T&gt;C, NC_000004.11:g.69977808T&gt;A, NC_000004.11:g.69977808=, NC_000004.12:g.69112090=, NC_000004.12:g.69112090T&gt;C</td>\n",
       "    </tr>\n",
       "    <tr>\n",
       "      <th>3</th>\n",
       "      <td>PA166177121</td>\n",
       "      <td>rs10007051</td>\n",
       "      <td>NaN</td>\n",
       "      <td>NaN</td>\n",
       "      <td>NC_000004.12:129244309</td>\n",
       "      <td>1</td>\n",
       "      <td>1</td>\n",
       "      <td>0</td>\n",
       "      <td>0</td>\n",
       "      <td>0</td>\n",
       "      <td>NC_000004.11:g.130165464=, NC_000004.12:g.129244309=, rs10007051, NC_000004.12:g.129244309C&gt;T, NC_000004.11:g.130165464C&gt;T, 10007051</td>\n",
       "    </tr>\n",
       "    <tr>\n",
       "      <th>4</th>\n",
       "      <td>PA166156636</td>\n",
       "      <td>rs10008257</td>\n",
       "      <td>NaN</td>\n",
       "      <td>NaN</td>\n",
       "      <td>NC_000004.12:94435177</td>\n",
       "      <td>2</td>\n",
       "      <td>0</td>\n",
       "      <td>0</td>\n",
       "      <td>0</td>\n",
       "      <td>0</td>\n",
       "      <td>10008257, NC_000004.12:g.94435177=, rs10008257, rs60883953, NC_000004.11:g.95356328G&gt;A, 60883953, NC_000004.11:g.95356328=, NC_000004.12:g.94435177G&gt;A</td>\n",
       "    </tr>\n",
       "  </tbody>\n",
       "</table>\n",
       "</div>"
      ],
      "text/plain": [
       "    Variant ID Variant Name     Gene IDs Gene Symbols                Location  \\\n",
       "0  PA166156302    rs1000002        PA395        ABCC5  NC_000003.12:183917980   \n",
       "1  PA166156746    rs1000113  PA142671652         IRGM  NC_000005.10:150860514   \n",
       "2  PA166195421   rs10006452        PA361       UGT2B7   NC_000004.12:69112090   \n",
       "3  PA166177121   rs10007051          NaN          NaN  NC_000004.12:129244309   \n",
       "4  PA166156636   rs10008257          NaN          NaN   NC_000004.12:94435177   \n",
       "\n",
       "  Variant Annotation count Clinical Annotation count  \\\n",
       "0                        1                         0   \n",
       "1                        1                         0   \n",
       "2                        1                         0   \n",
       "3                        1                         1   \n",
       "4                        2                         0   \n",
       "\n",
       "  Level 1/2 Clinical Annotation count Guideline Annotation count  \\\n",
       "0                                   0                          0   \n",
       "1                                   0                          0   \n",
       "2                                   0                          0   \n",
       "3                                   0                          0   \n",
       "4                                   0                          0   \n",
       "\n",
       "  Label Annotation count  \\\n",
       "0                      0   \n",
       "1                      0   \n",
       "2                      0   \n",
       "3                      0   \n",
       "4                      0   \n",
       "\n",
       "                                                                                                                                                                                                                                                 Synonyms  \n",
       "0  rs17623022, NG_047115.1:g.105031=, NC_000003.12:g.183917980C>T, rs1000002, 1000002, rs60664316, 386508637, NC_000003.12:g.183917980=, NG_047115.1:g.105031G>A, 17623022, rs386508637, NC_000003.11:g.183635768C>T, NC_000003.11:g.183635768=, 60664316  \n",
       "1                     1000113, NC_000005.9:g.150240076=, NC_000005.9:g.150240076C>T, 58108943, rs1000113, NC_000005.10:g.150860514=, rs58108943, NG_027809.2:g.18992=, NG_027809.2:g.18992C>T, NC_000005.10:g.150860514C>T, XM_011537641.1:c.531+11860C>T  \n",
       "2                                                      10006452, NC_000004.12:g.69112090T>A, 58882597, rs10006452, NC_000004.11:g.69977808T>C, NC_000004.11:g.69977808T>A, NC_000004.11:g.69977808=, NC_000004.12:g.69112090=, NC_000004.12:g.69112090T>C  \n",
       "3                                                                                                                    NC_000004.11:g.130165464=, NC_000004.12:g.129244309=, rs10007051, NC_000004.12:g.129244309C>T, NC_000004.11:g.130165464C>T, 10007051  \n",
       "4                                                                                                  10008257, NC_000004.12:g.94435177=, rs10008257, rs60883953, NC_000004.11:g.95356328G>A, 60883953, NC_000004.11:g.95356328=, NC_000004.12:g.94435177G>A  "
      ]
     },
     "execution_count": 23,
     "metadata": {},
     "output_type": "execute_result"
    }
   ],
   "source": [
    "variants_table.head()"
   ]
  },
  {
   "cell_type": "code",
   "execution_count": 73,
   "id": "7a81d298-ee93-44ee-8b0f-1edb1af78ff1",
   "metadata": {
    "pycharm": {
     "name": "#%%\n"
    }
   },
   "outputs": [
    {
     "data": {
      "text/html": [
       "<div>\n",
       "<style scoped>\n",
       "    .dataframe tbody tr th:only-of-type {\n",
       "        vertical-align: middle;\n",
       "    }\n",
       "\n",
       "    .dataframe tbody tr th {\n",
       "        vertical-align: top;\n",
       "    }\n",
       "\n",
       "    .dataframe thead th {\n",
       "        text-align: right;\n",
       "    }\n",
       "</style>\n",
       "<table border=\"1\" class=\"dataframe\">\n",
       "  <thead>\n",
       "    <tr style=\"text-align: right;\">\n",
       "      <th></th>\n",
       "      <th>Variant ID</th>\n",
       "      <th>Variant Name</th>\n",
       "      <th>Gene IDs</th>\n",
       "      <th>Gene Symbols</th>\n",
       "      <th>Location</th>\n",
       "      <th>Variant Annotation count</th>\n",
       "      <th>Clinical Annotation count</th>\n",
       "      <th>Level 1/2 Clinical Annotation count</th>\n",
       "      <th>Guideline Annotation count</th>\n",
       "      <th>Label Annotation count</th>\n",
       "      <th>Synonyms</th>\n",
       "    </tr>\n",
       "  </thead>\n",
       "  <tbody>\n",
       "    <tr>\n",
       "      <th>1591</th>\n",
       "      <td>PA166157228</td>\n",
       "      <td>rs144854329</td>\n",
       "      <td>PA37302</td>\n",
       "      <td>VEGFA</td>\n",
       "      <td>NC_000006.12:43768679_43768698</td>\n",
       "      <td>2</td>\n",
       "      <td>1</td>\n",
       "      <td>0</td>\n",
       "      <td>0</td>\n",
       "      <td>0</td>\n",
       "      <td>NM_001171623.1:c.-2568_-2551del, NM_001025366.2:c.-2028_-2011del, NM_001025366.2:c.-2028_-2011del18, NM_001171623.1:c.-2568_-2551del18, NM_001033756.2:c.-2028_-2011del18, NM_001025370.2:c.-2028_-2011del, NM_001171628.1:c.-2568_-2551del18, NM_001171629.1:c.-2568_-2551del, rs144854329, NM_001171624.1:c.-2568_-2551del18, NM_001171629.1:c.-2568_-2551del18, NM_001171622.1:c.-2028_-2011del, NM_001025370.2:c.-2028_-2011del18, 144854329, NG_008732.1:g.3466_3483dup, NM_001171627.1:c.-2568_-2551del, NM_001171625.1:c.-2568_-2551del, NC_000006.12:g.43768681_43768698dup, NG_008732.1:g.3466_3483del, NM_001025367.2:c.-2028_-2011del18, NC_000006.11:g.43736416_43736435=, NM_001317010.1:c.-2568_-2551del18, NM_001204384.1:c.-2568_-2551del, NM_003376.5:c.-2028_-2011del18, NM_001171630.1:c.-2568_-2551del, NM_001025369.2:c.-2028_-2011del, NC_000006.12:g.43768679_43768698=, NM_001025368.2:c.-2028_-2011del, NM_001171625.1:c.-2568_-2551del18, NM_001171622.1:c.-2028_-2011del18, NM_001171624.1:c.-2568_-2551del, NM_001025367.2:c.-2028_-2011del, NM_001171630.1:c.-2568_-2551del18, NM_001171626.1:c.-2568_-2551del18, NM_001204385.1:c.-2028_-2011del18, NC_000006.11:g.43736418_43736435del, NM_001033756.2:c.-2028_-2011del, NC_000006.11:g.43736418_43736435dup, NM_001025368.2:c.-2028_-2011del18, NM_001171628.1:c.-2568_-2551del, NC_000006.12:g.43768681_43768698del, NG_008732.1:g.3464_3483=, NM_001171626.1:c.-2568_-2551del, NC_000006.12:g.43768679_43768696del18, NM_001171627.1:c.-2568_-2551del18, NM_001204385.1:c.-2028_-2011del, 60952842, NG_008732.1:g.3464_3481del18, NM_003376.5:c.-2028_-2011del, NM_001204384.1:c.-2568_-2551del18, NM_001025369.2:c.-2028_-2011del18, NM_001317010.1:c.-2568_-2551del, NC_000006.11:g.43736416_43736433del18</td>\n",
       "    </tr>\n",
       "  </tbody>\n",
       "</table>\n",
       "</div>"
      ],
      "text/plain": [
       "       Variant ID Variant Name Gene IDs Gene Symbols  \\\n",
       "1591  PA166157228  rs144854329  PA37302        VEGFA   \n",
       "\n",
       "                            Location Variant Annotation count  \\\n",
       "1591  NC_000006.12:43768679_43768698                        2   \n",
       "\n",
       "     Clinical Annotation count Level 1/2 Clinical Annotation count  \\\n",
       "1591                         1                                   0   \n",
       "\n",
       "     Guideline Annotation count Label Annotation count  \\\n",
       "1591                          0                      0   \n",
       "\n",
       "                                                                                                                                                                                                                                                                                                                                                                                                                                                                                                                                                                                                                                                                                                                                                                                                                                                                                                                                                                                                                                                                                                                                                                                                                                                                                                                                                                                                                                                                                                                                                                                                                                                                                                                                                                                            Synonyms  \n",
       "1591  NM_001171623.1:c.-2568_-2551del, NM_001025366.2:c.-2028_-2011del, NM_001025366.2:c.-2028_-2011del18, NM_001171623.1:c.-2568_-2551del18, NM_001033756.2:c.-2028_-2011del18, NM_001025370.2:c.-2028_-2011del, NM_001171628.1:c.-2568_-2551del18, NM_001171629.1:c.-2568_-2551del, rs144854329, NM_001171624.1:c.-2568_-2551del18, NM_001171629.1:c.-2568_-2551del18, NM_001171622.1:c.-2028_-2011del, NM_001025370.2:c.-2028_-2011del18, 144854329, NG_008732.1:g.3466_3483dup, NM_001171627.1:c.-2568_-2551del, NM_001171625.1:c.-2568_-2551del, NC_000006.12:g.43768681_43768698dup, NG_008732.1:g.3466_3483del, NM_001025367.2:c.-2028_-2011del18, NC_000006.11:g.43736416_43736435=, NM_001317010.1:c.-2568_-2551del18, NM_001204384.1:c.-2568_-2551del, NM_003376.5:c.-2028_-2011del18, NM_001171630.1:c.-2568_-2551del, NM_001025369.2:c.-2028_-2011del, NC_000006.12:g.43768679_43768698=, NM_001025368.2:c.-2028_-2011del, NM_001171625.1:c.-2568_-2551del18, NM_001171622.1:c.-2028_-2011del18, NM_001171624.1:c.-2568_-2551del, NM_001025367.2:c.-2028_-2011del, NM_001171630.1:c.-2568_-2551del18, NM_001171626.1:c.-2568_-2551del18, NM_001204385.1:c.-2028_-2011del18, NC_000006.11:g.43736418_43736435del, NM_001033756.2:c.-2028_-2011del, NC_000006.11:g.43736418_43736435dup, NM_001025368.2:c.-2028_-2011del18, NM_001171628.1:c.-2568_-2551del, NC_000006.12:g.43768681_43768698del, NG_008732.1:g.3464_3483=, NM_001171626.1:c.-2568_-2551del, NC_000006.12:g.43768679_43768696del18, NM_001171627.1:c.-2568_-2551del18, NM_001204385.1:c.-2028_-2011del, 60952842, NG_008732.1:g.3464_3481del18, NM_003376.5:c.-2028_-2011del, NM_001204384.1:c.-2568_-2551del18, NM_001025369.2:c.-2028_-2011del18, NM_001317010.1:c.-2568_-2551del, NC_000006.11:g.43736416_43736433del18  "
      ]
     },
     "execution_count": 73,
     "metadata": {},
     "output_type": "execute_result"
    }
   ],
   "source": [
    "variants_table[variants_table['Variant Name'] == 'rs144854329']"
   ]
  },
  {
   "cell_type": "code",
   "execution_count": 74,
   "id": "66c46a86-1180-4a57-b5c5-1e3f06c00a95",
   "metadata": {
    "pycharm": {
     "name": "#%%\n"
    }
   },
   "outputs": [
    {
     "data": {
      "text/plain": [
       "18"
      ]
     },
     "execution_count": 74,
     "metadata": {},
     "output_type": "execute_result"
    }
   ],
   "source": [
    "len('GGTCCCACTCTTCCCACA')"
   ]
  },
  {
   "cell_type": "markdown",
   "id": "5838c1e6-88c1-4a60-b1f1-9f624a09ee92",
   "metadata": {
    "pycharm": {
     "name": "#%% md\n"
    }
   },
   "source": [
    "Option 1: Parse HGVS from variants/Synonyms -> determine which alleles are \"variant\", remaining one is \"reference\"\n",
    "\n",
    "Question of whether to do this for all of the records or just these\n",
    "\n",
    "Pro:\n",
    "* still rely PGKB data\n",
    "\n",
    "Con:\n",
    "* HGVS is difficult to interpret\n"
   ]
  },
  {
   "cell_type": "code",
   "execution_count": 8,
   "id": "b2a7e4c8-6294-4847-919a-4757b3a4fd36",
   "metadata": {
    "pycharm": {
     "name": "#%%\n"
    }
   },
   "outputs": [],
   "source": [
    "# dbsnp fun\n",
    "import requests\n",
    "\n",
    "eutils_url = 'https://eutils.ncbi.nlm.nih.gov/entrez/eutils/'\n",
    "esearch_url = eutils_url + 'esearch.fcgi'\n",
    "esummary_url = eutils_url + 'esummary.fcgi'\n",
    "efetch_url = eutils_url + 'efetch.fcgi'"
   ]
  },
  {
   "cell_type": "code",
   "execution_count": 9,
   "id": "f8ca1ffd-7965-4c89-86de-eec794b2d932",
   "metadata": {
    "pycharm": {
     "name": "#%%\n"
    }
   },
   "outputs": [],
   "source": [
    "def get_rsid(rsid, api_key=None):\n",
    "    if rsid.startswith('rs'):\n",
    "        rsid = rsid[2:]\n",
    "    payload = {'db': 'snp', 'id': rsid, 'retmode': 'JSON'}\n",
    "    if api_key:\n",
    "        payload['api_key'] = api_key\n",
    "    req = requests.get(esummary_url, params=payload)\n",
    "    req.raise_for_status()\n",
    "    data = req.json()\n",
    "    if 'result' in data and rsid in data['result']:\n",
    "        return data['result'][rsid]\n"
   ]
  },
  {
   "cell_type": "code",
   "execution_count": 10,
   "id": "e3bba4bc-ba4c-47ed-bcef-57f3cabdd871",
   "metadata": {
    "pycharm": {
     "name": "#%%\n"
    }
   },
   "outputs": [],
   "source": [
    "rs = get_rsid('rs72549309')"
   ]
  },
  {
   "cell_type": "code",
   "execution_count": 11,
   "id": "907ad328-92a4-4183-924f-c23e51a2796d",
   "metadata": {
    "pycharm": {
     "name": "#%%\n"
    }
   },
   "outputs": [
    {
     "data": {
      "text/plain": [
       "{'uid': '72549309',\n",
       " 'snp_id': 72549309,\n",
       " 'allele_origin': '',\n",
       " 'global_mafs': [{'study': 'ExAC', 'freq': '-=0.000091/11'},\n",
       "  {'study': 'GnomAD', 'freq': '-=0.000121/17'},\n",
       "  {'study': 'GnomAD_exomes', 'freq': '-=0.000104/26'},\n",
       "  {'study': 'GoESP', 'freq': '-=0.028674/359'},\n",
       "  {'study': 'GoNL', 'freq': '-=0.004008/4'},\n",
       "  {'study': 'PAGE_STUDY', 'freq': '-=0.000025/2'},\n",
       "  {'study': 'TOPMED', 'freq': '-=0.000049/13'},\n",
       "  {'study': 'ALFA', 'freq': 'ATGAATGA=0.000071/1'}],\n",
       " 'global_population': '',\n",
       " 'global_samplesize': '',\n",
       " 'suspected': '',\n",
       " 'clinical_significance': 'pathogenic',\n",
       " 'genes': [{'name': 'DPYD', 'gene_id': '1806'}],\n",
       " 'acc': 'NC_000001.11',\n",
       " 'chr': '1',\n",
       " 'handle': 'EVA,PAGE_CC,SWEGEN,EVA-GONL,AFFY_DM3_1,TOPMED,EVA_EXAC,GNOMAD,ILLUMINA,CLINVAR',\n",
       " 'spdi': 'NC_000001.11:97740410:ATGAATGA:ATGA',\n",
       " 'fxn_class': 'coding_sequence_variant,non_coding_transcript_variant,frameshift_variant',\n",
       " 'validated': 'by-frequency,by-alfa,by-cluster',\n",
       " 'docsum': 'HGVS=NC_000001.11:g.97740411ATGA[1],NC_000001.10:g.98205967ATGA[1],NG_008807.2:g.185642TCAT[1],NM_000110.4:c.299_302del,NM_000110.3:c.299_302del,NM_001160301.1:c.299_302del,XM_006710397.4:c.299_302del,XM_006710397.3:c.299_302del,XM_006710397.2:c.299_302del,XM_006710397.1:c.299_302del,XM_005270562.3:c.299_302del,XM_005270562.2:c.299_302del,XM_005270562.1:c.299_302del,XM_017000507.2:c.188_191del,XM_017000507.1:c.188_191del,XR_001737014.2:n.432TCAT[1],XR_001737014.1:n.432TCAT[1],XM_047448076.1:c.71_74del,XM_047448077.1:c.188_191del,NP_000101.2:p.Phe100fs,NP_001153773.1:p.Phe100fs,XP_006710460.1:p.Phe100fs,XP_005270619.2:p.Phe100fs,XP_016855996.1:p.Phe63fs,XP_047304032.1:p.Phe24fs,XP_047304033.1:p.Phe63fs|SEQ=[ATGA/-]|LEN=8|GENE=DPYD:1806',\n",
       " 'tax_id': 9606,\n",
       " 'orig_build': 130,\n",
       " 'upd_build': 156,\n",
       " 'createdate': '2009/02/14 00:40',\n",
       " 'updatedate': '2022/10/12 16:37',\n",
       " 'ss': '105434300,975469207,1457611773,1711626460,1958296122,2710678078,2731657720,2746378687,2758490783,2987285387,3021113015,3021113016,3651443679,3651443680,3725047404,3770827455,3823633624,4460225857',\n",
       " 'allele': 'N',\n",
       " 'snp_class': 'delins',\n",
       " 'chrpos': '1:97740411',\n",
       " 'chrpos_prev_assm': '1:98205967',\n",
       " 'text': '',\n",
       " 'snp_id_sort': '0072549309',\n",
       " 'clinical_sort': '1',\n",
       " 'cited_sort': '',\n",
       " 'chrpos_sort': '0097740411',\n",
       " 'merged_sort': '0'}"
      ]
     },
     "execution_count": 11,
     "metadata": {},
     "output_type": "execute_result"
    }
   ],
   "source": [
    "rs"
   ]
  },
  {
   "cell_type": "code",
   "execution_count": 12,
   "id": "25698bf1-ee37-492f-ba7e-40da4e9a8685",
   "metadata": {
    "pycharm": {
     "name": "#%%\n"
    }
   },
   "outputs": [
    {
     "data": {
      "text/plain": [
       "'NC_000001.11:97740410:ATGAATGA:ATGA'"
      ]
     },
     "execution_count": 12,
     "metadata": {},
     "output_type": "execute_result"
    }
   ],
   "source": [
    "rs['spdi']"
   ]
  },
  {
   "cell_type": "markdown",
   "id": "7d115e68-3cba-4c48-82ec-89c03e7262e3",
   "metadata": {
    "pycharm": {
     "name": "#%% md\n"
    }
   },
   "source": [
    "Example normalisations of SPDI representation:\n",
    "* `NC_000001.11:97740410:ATGAATGA:ATGA` > `1:97740410:ATGA:-`\n",
    "* `NC_000006.12:43768678:GGTCCCACTCTTCCCACAGG:GG` > `6:43768678:GGTCCCACTCTTCCCACA:-`"
   ]
  },
  {
   "cell_type": "code",
   "execution_count": 14,
   "id": "5e1476a1-5e9c-44b3-b1e5-e1156199a6cc",
   "metadata": {
    "pycharm": {
     "name": "#%%\n"
    }
   },
   "outputs": [
    {
     "data": {
      "text/plain": [
       "'NC_000006.12:43768678:GGTCCCACTCTTCCCACAGG:GG,NC_000006.12:43768678:GGTCCCACTCTTCCCACAGG:GGTCCCACTCTTCCCACAGGTCCCACTCTTCCCACAGG'"
      ]
     },
     "execution_count": 14,
     "metadata": {},
     "output_type": "execute_result"
    }
   ],
   "source": [
    "get_rsid('rs144854329')['spdi']"
   ]
  },
  {
   "cell_type": "markdown",
   "id": "353b9b99-3e48-414a-865e-44b9cda7d3d2",
   "metadata": {
    "pycharm": {
     "name": "#%% md\n"
    }
   },
   "source": [
    "Option 2: Use dbSNP SPDI representation to determine variants, the other is reference\n",
    "\n",
    "Pro:\n",
    "* SPDI is unambiguous\n",
    "\n",
    "Con:\n",
    "* Rely on external resource\n",
    "* Still need to decide if do this for everything or just edge cases\n",
    "\n",
    "Full algorithm:\n",
    "* Use PGKB location to try to locate reference allele among annotated alleles\n",
    "* If not, query DBSNP to get SPDI\n",
    "* Normalise using [this algorithm](https://genome.sph.umich.edu/wiki/Variant_Normalization) or existing implementation\n",
    "* Use this to determine which are the alternate alleles\n",
    "\n",
    "Next step: check we can use this to get reference for the below rs"
   ]
  },
  {
   "cell_type": "code",
   "execution_count": 16,
   "id": "909ecb37-126d-4a46-8979-669f25b42467",
   "metadata": {
    "pycharm": {
     "name": "#%%\n"
    }
   },
   "outputs": [],
   "source": [
    "rs_ref_not_in_alleles = [\n",
    "    'rs746071566',\n",
    "    'rs61767072',\n",
    "    'rs1048943',\n",
    "    'rs35068180',\n",
    "    'rs61824877',\n",
    "    'rs71486745',\n",
    "    'rs144854329',\n",
    "    'rs17885382',\n",
    "    'rs700518',\n",
    "    'rs28364032',\n",
    "    'rs57064725',\n",
    "    'rs72549309',\n",
    "    'rs2228171',\n",
    "    'rs111618861',\n",
    "    'rs201279313',\n",
    "    'rs10170310',\n",
    "]"
   ]
  },
  {
   "cell_type": "code",
   "execution_count": 17,
   "id": "f94fc949-235e-4abd-90b4-2cd6fe909ce0",
   "metadata": {
    "pycharm": {
     "name": "#%%\n"
    }
   },
   "outputs": [],
   "source": [
    "def get_rsids(rsids, api_key=None):\n",
    "    rsids = [rs[2:] if rs.startswith('rs') else rs for rs in rsids]\n",
    "    payload = {'db': 'snp', 'id': ','.join(rsids), 'retmode': 'JSON'}\n",
    "    if api_key:\n",
    "        payload['api_key'] = api_key\n",
    "    req = requests.get(esummary_url, params=payload)\n",
    "    req.raise_for_status()\n",
    "    data = req.json()\n",
    "    if 'result' in data:\n",
    "        return data['result']"
   ]
  },
  {
   "cell_type": "code",
   "execution_count": 18,
   "id": "36a4f96e-de51-402a-b9ca-6ea77f37d62c",
   "metadata": {
    "pycharm": {
     "name": "#%%\n"
    }
   },
   "outputs": [],
   "source": [
    "results = get_rsids(rs_ref_not_in_alleles)"
   ]
  },
  {
   "cell_type": "code",
   "execution_count": 20,
   "id": "1490acc4-b07e-40f2-a540-db4c0dcf88b8",
   "metadata": {
    "pycharm": {
     "name": "#%%\n"
    }
   },
   "outputs": [],
   "source": [
    "rsid_to_spdis = {}\n",
    "for k in results:\n",
    "    if k != 'uids':\n",
    "        rsid = f'rs{k}'\n",
    "        spdis = results[k]['spdi'].split(',')\n",
    "        rsid_to_spdis[rsid] = spdis"
   ]
  },
  {
   "cell_type": "code",
   "execution_count": 22,
   "id": "b72b9610-5060-4add-8869-8a63ab36e265",
   "metadata": {
    "pycharm": {
     "name": "#%%\n"
    }
   },
   "outputs": [
    {
     "data": {
      "text/plain": [
       "True"
      ]
     },
     "execution_count": 22,
     "metadata": {},
     "output_type": "execute_result"
    }
   ],
   "source": [
    "set(rsid_to_spdis.keys()) == set(rs_ref_not_in_alleles)"
   ]
  },
  {
   "cell_type": "code",
   "execution_count": 23,
   "id": "3e718a24-abe4-4bc9-82af-0a41c038fc50",
   "metadata": {
    "pycharm": {
     "name": "#%%\n"
    }
   },
   "outputs": [
    {
     "data": {
      "text/plain": [
       "{'rs746071566': ['NC_000013.11:48037782:GGAGTCGGAGTCGGAGTCG:GGAGTCGGAGTCG',\n",
       "  'NC_000013.11:48037782:GGAGTCGGAGTCGGAGTCG:GGAGTCGGAGTCGGAGTCGGAGTCG',\n",
       "  'NC_000013.11:48037782:GGAGTCGGAGTCGGAGTCG:GGAGTCGGAGTCGGAGTCGGAGTCGGAGTCG'],\n",
       " 'rs61767072': ['NC_000004.12:3767568:GGGGGCGGGGCCGGGGGCGG:GGGGGCGG'],\n",
       " 'rs1048943': ['NC_000015.10:74720643:T:A',\n",
       "  'NC_000015.10:74720643:T:C',\n",
       "  'NC_000015.10:74720643:T:G'],\n",
       " 'rs35068180': ['NC_000011.10:102845216:AAAAA:AAAA',\n",
       "  'NC_000011.10:102845216:AAAAA:AAAAAA',\n",
       "  'NC_000011.10:102845216:AAAAA:AAAAAAA'],\n",
       " 'rs61824877': ['NC_000001.11:200273503:G:A', 'NC_000001.11:200273503:G:T'],\n",
       " 'rs71486745': ['NC_000010.11:94936017:TGTG:TG',\n",
       "  'NC_000010.11:94936017:TGTG:TGTGTG'],\n",
       " 'rs144854329': ['NC_000006.12:43768678:GGTCCCACTCTTCCCACAGG:GG',\n",
       "  'NC_000006.12:43768678:GGTCCCACTCTTCCCACAGG:GGTCCCACTCTTCCCACAGGTCCCACTCTTCCCACAGG'],\n",
       " 'rs17885382': ['NC_000006.12:32584317:C:A', 'NC_000006.12:32584317:C:T'],\n",
       " 'rs700518': ['NC_000015.10:51236914:T:C'],\n",
       " 'rs28364032': ['NC_000017.11:45834975:G:A', 'NC_000017.11:45834975:G:T'],\n",
       " 'rs57064725': ['NC_000015.10:78540693:C:A'],\n",
       " 'rs72549309': ['NC_000001.11:97740410:ATGAATGA:ATGA'],\n",
       " 'rs2228171': ['NC_000002.12:169196994:C:A',\n",
       "  'NC_000002.12:169196994:C:G',\n",
       "  'NC_000002.12:169196994:C:T'],\n",
       " 'rs111618861': ['NC_000008.11:56131823:AAAAAAAAAAAAAA:AAAAAAAAAAA',\n",
       "  'NC_000008.11:56131823:AAAAAAAAAAAAAA:AAAAAAAAAAAA',\n",
       "  'NC_000008.11:56131823:AAAAAAAAAAAAAA:AAAAAAAAAAAAA',\n",
       "  'NC_000008.11:56131823:AAAAAAAAAAAAAA:AAAAAAAAAAAAAAA',\n",
       "  'NC_000008.11:56131823:AAAAAAAAAAAAAA:AAAAAAAAAAAAAAAA',\n",
       "  'NC_000008.11:56131823:AAAAAAAAAAAAAA:AAAAAAAAAAAAAAAAA'],\n",
       " 'rs201279313': ['NC_000004.12:127735885:TTATT:TT'],\n",
       " 'rs10170310': ['NC_000002.12:138521351:G:A', 'NC_000002.12:138521351:G:C']}"
      ]
     },
     "execution_count": 23,
     "metadata": {},
     "output_type": "execute_result"
    }
   ],
   "source": [
    "rsid_to_spdis"
   ]
  },
  {
   "cell_type": "code",
   "execution_count": null,
   "id": "60a79837-0841-4cfd-98a3-75b193749f0e",
   "metadata": {
    "pycharm": {
     "name": "#%%\n"
    }
   },
   "outputs": [],
   "source": []
  },
  {
   "attachments": {
    "e2dfbbcd-424b-47a9-9d30-c373a80ce600.png": {
     "image/png": "[encoded data removed]"
    }
   },
   "cell_type": "markdown",
   "id": "a0681737-3236-4db4-9407-cc640ce5ce14",
   "metadata": {
    "pycharm": {
     "name": "#%% md\n"
    }
   },
   "source": [
    "## Normalisation\n",
    "\n",
    "![image.png](attachment:e2dfbbcd-424b-47a9-9d30-c373a80ce600.png)"
   ]
  },
  {
   "cell_type": "code",
   "execution_count": 28,
   "id": "629ff503-410b-4489-9385-e9fa315d7e7a",
   "metadata": {
    "pycharm": {
     "name": "#%%\n"
    }
   },
   "outputs": [],
   "source": [
    "from opentargets_pharmgkb.variant_coordinates import Fasta"
   ]
  },
  {
   "cell_type": "code",
   "execution_count": 29,
   "id": "7cfdaa53-5dc6-485a-a424-554f301c573e",
   "metadata": {
    "pycharm": {
     "name": "#%%\n"
    }
   },
   "outputs": [],
   "source": [
    "fasta = Fasta(fasta_path)"
   ]
  },
  {
   "cell_type": "code",
   "execution_count": 36,
   "id": "3c97eb5d-624c-41ca-865f-4450e88c6c58",
   "metadata": {
    "pycharm": {
     "name": "#%%\n"
    }
   },
   "outputs": [],
   "source": [
    "def normalise(chr, pos, ref, alts, fasta):\n",
    "    alleles = [ref] + [a for a in alts]\n",
    "    # while no empty alleles and all end in same nucleotide\n",
    "    while all(len(a) > 0 for a in alleles) and (len(set(a[-1] for a in alleles)) == 1):\n",
    "        # truncate rightmost nucleotide\n",
    "        alleles = [a[:-1] for a in alleles]\n",
    "        # if exists an empty allele\n",
    "        if any(len(a) == 0 for a in alleles):\n",
    "            # extend alleles 1 to the left\n",
    "            alleles = [fasta.add_context_base(chr, pos, a) for a in alleles]\n",
    "            pos -= 1\n",
    "    # while all start with same nucleotide and have length 2 or more\n",
    "    while (len(set(a[0] for a in alleles)) == 1) and all(len(a) >= 2 for a in alleles):\n",
    "        # truncate leftmost nucleotide\n",
    "        alleles = [a[1:] for a in alleles]\n",
    "        pos += 1\n",
    "    return chr, pos, alleles[0], alleles[1:]"
   ]
  },
  {
   "cell_type": "code",
   "execution_count": 38,
   "id": "8f932aa0-2222-40d0-ace6-22f74ed5e1f6",
   "metadata": {
    "pycharm": {
     "name": "#%%\n"
    }
   },
   "outputs": [
    {
     "data": {
      "text/plain": [
       "('NC_000006.12',\n",
       " 43768677,\n",
       " 'TGGTCCCACTCTTCCCACA',\n",
       " ['T', 'TGGTCCCACTCTTCCCACAGGTCCCACTCTTCCCACA'])"
      ]
     },
     "execution_count": 38,
     "metadata": {},
     "output_type": "execute_result"
    }
   ],
   "source": [
    "normalise('NC_000006.12', 43768678, 'GGTCCCACTCTTCCCACAGG', ['GG', 'GGTCCCACTCTTCCCACAGGTCCCACTCTTCCCACAGG'], fasta)"
   ]
  },
  {
   "cell_type": "code",
   "execution_count": 45,
   "id": "a6021822-9f07-43bd-8d00-ed47c7dfd87f",
   "metadata": {
    "pycharm": {
     "name": "#%%\n"
    }
   },
   "outputs": [],
   "source": [
    "def normalise_spdis(spdis, fasta):\n",
    "    chr = pos = ref = None\n",
    "    alts = []\n",
    "    for spdi in spdis:\n",
    "        chr, pos, ref, alt = spdi.split(':')\n",
    "        alts.append(alt)\n",
    "    chr, pos, ref, alts = normalise(chr, int(pos), ref, alts, fasta)\n",
    "    return fasta.get_chrom_num_from_refseq(chr), pos, ref, alts"
   ]
  },
  {
   "cell_type": "code",
   "execution_count": 61,
   "id": "f2be50fa-f4cf-4af7-a521-0cc3825ff5e3",
   "metadata": {
    "pycharm": {
     "name": "#%%\n"
    }
   },
   "outputs": [
    {
     "name": "stdout",
     "output_type": "stream",
     "text": [
      "rs746071566\n",
      "13:48037781\n",
      "AGGAGTC\t['A', 'AGGAGTCGGAGTC', 'AGGAGTCGGAGTCGGAGTC']\n",
      "\n",
      "rs61767072\n",
      "4:3767567\n",
      "AGGGGGCGGGGCC\t['A']\n",
      "\n",
      "rs1048943\n",
      "15:74720643\n",
      "T\t['A', 'C', 'G']\n",
      "\n",
      "rs35068180\n",
      "11:102845215\n",
      "GA\t['G', 'GAA', 'GAAA']\n",
      "\n",
      "rs61824877\n",
      "1:200273503\n",
      "G\t['A', 'T']\n",
      "\n",
      "rs71486745\n",
      "10:94936016\n",
      "CTG\t['C', 'CTGTG']\n",
      "\n",
      "rs144854329\n",
      "6:43768677\n",
      "TGGTCCCACTCTTCCCACA\t['T', 'TGGTCCCACTCTTCCCACAGGTCCCACTCTTCCCACA']\n",
      "\n",
      "rs17885382\n",
      "6:32584317\n",
      "C\t['A', 'T']\n",
      "\n",
      "rs700518\n",
      "15:51236914\n",
      "T\t['C']\n",
      "\n",
      "rs28364032\n",
      "17:45834975\n",
      "G\t['A', 'T']\n",
      "\n",
      "rs57064725\n",
      "15:78540693\n",
      "C\t['A']\n",
      "\n",
      "rs72549309\n",
      "1:97740409\n",
      "GATGA\t['G']\n",
      "\n",
      "rs2228171\n",
      "2:169196994\n",
      "C\t['A', 'G', 'T']\n",
      "\n",
      "rs111618861\n",
      "8:56131822\n",
      "CAAA\t['C', 'CA', 'CAA', 'CAAAA', 'CAAAAA', 'CAAAAAA']\n",
      "\n",
      "rs201279313\n",
      "4:127735884\n",
      "TTTA\t['T']\n",
      "\n",
      "rs10170310\n",
      "2:138521351\n",
      "G\t['A', 'C']\n",
      "\n"
     ]
    }
   ],
   "source": [
    "for rs, spdis in rsid_to_spdis.items():\n",
    "    print(rs)\n",
    "    chr, pos, ref, alts = normalise_spdis(spdis, fasta)\n",
    "    print(f'{chr}:{pos}\\n{ref}\\t{alts}')\n",
    "    print()"
   ]
  },
  {
   "cell_type": "code",
   "execution_count": 59,
   "id": "2f271559-8e07-4bc8-8b1e-b6dc754959a0",
   "metadata": {
    "pycharm": {
     "name": "#%%\n"
    }
   },
   "outputs": [
    {
     "data": {
      "text/html": [
       "<div>\n",
       "<style scoped>\n",
       "    .dataframe tbody tr th:only-of-type {\n",
       "        vertical-align: middle;\n",
       "    }\n",
       "\n",
       "    .dataframe tbody tr th {\n",
       "        vertical-align: top;\n",
       "    }\n",
       "\n",
       "    .dataframe thead th {\n",
       "        text-align: right;\n",
       "    }\n",
       "</style>\n",
       "<table border=\"1\" class=\"dataframe\">\n",
       "  <thead>\n",
       "    <tr style=\"text-align: right;\">\n",
       "      <th></th>\n",
       "      <th>Variant/Haplotypes</th>\n",
       "      <th>Genotype/Allele</th>\n",
       "    </tr>\n",
       "  </thead>\n",
       "  <tbody>\n",
       "    <tr>\n",
       "      <th>0</th>\n",
       "      <td>rs746071566</td>\n",
       "      <td>GGAGTC/GGAGTC</td>\n",
       "    </tr>\n",
       "    <tr>\n",
       "      <th>1</th>\n",
       "      <td>rs746071566</td>\n",
       "      <td>GGAGTC/del</td>\n",
       "    </tr>\n",
       "    <tr>\n",
       "      <th>2</th>\n",
       "      <td>rs746071566</td>\n",
       "      <td>del/del</td>\n",
       "    </tr>\n",
       "    <tr>\n",
       "      <th>3</th>\n",
       "      <td>rs61767072</td>\n",
       "      <td>GGGGCGGGGCCG/GGGGCGGGGCCG</td>\n",
       "    </tr>\n",
       "    <tr>\n",
       "      <th>4</th>\n",
       "      <td>rs61767072</td>\n",
       "      <td>GGGGCGGGGCCG/del</td>\n",
       "    </tr>\n",
       "    <tr>\n",
       "      <th>5</th>\n",
       "      <td>rs61767072</td>\n",
       "      <td>del/del</td>\n",
       "    </tr>\n",
       "    <tr>\n",
       "      <th>6</th>\n",
       "      <td>rs1048943</td>\n",
       "      <td>AA</td>\n",
       "    </tr>\n",
       "    <tr>\n",
       "      <th>7</th>\n",
       "      <td>rs1048943</td>\n",
       "      <td>AG</td>\n",
       "    </tr>\n",
       "    <tr>\n",
       "      <th>8</th>\n",
       "      <td>rs1048943</td>\n",
       "      <td>GG</td>\n",
       "    </tr>\n",
       "    <tr>\n",
       "      <th>9</th>\n",
       "      <td>rs35068180</td>\n",
       "      <td>A/del</td>\n",
       "    </tr>\n",
       "    <tr>\n",
       "      <th>10</th>\n",
       "      <td>rs35068180</td>\n",
       "      <td>AA</td>\n",
       "    </tr>\n",
       "    <tr>\n",
       "      <th>11</th>\n",
       "      <td>rs35068180</td>\n",
       "      <td>del/del</td>\n",
       "    </tr>\n",
       "    <tr>\n",
       "      <th>12</th>\n",
       "      <td>rs35068180</td>\n",
       "      <td>A/del</td>\n",
       "    </tr>\n",
       "    <tr>\n",
       "      <th>13</th>\n",
       "      <td>rs35068180</td>\n",
       "      <td>AA</td>\n",
       "    </tr>\n",
       "    <tr>\n",
       "      <th>14</th>\n",
       "      <td>rs35068180</td>\n",
       "      <td>del/del</td>\n",
       "    </tr>\n",
       "    <tr>\n",
       "      <th>15</th>\n",
       "      <td>rs61824877</td>\n",
       "      <td>AA</td>\n",
       "    </tr>\n",
       "    <tr>\n",
       "      <th>16</th>\n",
       "      <td>rs61824877</td>\n",
       "      <td>AT</td>\n",
       "    </tr>\n",
       "    <tr>\n",
       "      <th>17</th>\n",
       "      <td>rs61824877</td>\n",
       "      <td>TT</td>\n",
       "    </tr>\n",
       "    <tr>\n",
       "      <th>18</th>\n",
       "      <td>rs71486745</td>\n",
       "      <td>GT/GT</td>\n",
       "    </tr>\n",
       "    <tr>\n",
       "      <th>19</th>\n",
       "      <td>rs71486745</td>\n",
       "      <td>GT/del</td>\n",
       "    </tr>\n",
       "    <tr>\n",
       "      <th>20</th>\n",
       "      <td>rs71486745</td>\n",
       "      <td>del/del</td>\n",
       "    </tr>\n",
       "    <tr>\n",
       "      <th>21</th>\n",
       "      <td>rs144854329</td>\n",
       "      <td>GGTCCCACTCTTCCCACA/GGTCCCACTCTTCCCACA</td>\n",
       "    </tr>\n",
       "    <tr>\n",
       "      <th>22</th>\n",
       "      <td>rs144854329</td>\n",
       "      <td>GGTCCCACTCTTCCCACA/del</td>\n",
       "    </tr>\n",
       "    <tr>\n",
       "      <th>23</th>\n",
       "      <td>rs144854329</td>\n",
       "      <td>del/del</td>\n",
       "    </tr>\n",
       "    <tr>\n",
       "      <th>24</th>\n",
       "      <td>rs17885382</td>\n",
       "      <td>AA</td>\n",
       "    </tr>\n",
       "    <tr>\n",
       "      <th>25</th>\n",
       "      <td>rs17885382</td>\n",
       "      <td>AT</td>\n",
       "    </tr>\n",
       "    <tr>\n",
       "      <th>26</th>\n",
       "      <td>rs17885382</td>\n",
       "      <td>TT</td>\n",
       "    </tr>\n",
       "    <tr>\n",
       "      <th>27</th>\n",
       "      <td>rs700518</td>\n",
       "      <td>AA</td>\n",
       "    </tr>\n",
       "    <tr>\n",
       "      <th>28</th>\n",
       "      <td>rs700518</td>\n",
       "      <td>AC</td>\n",
       "    </tr>\n",
       "    <tr>\n",
       "      <th>29</th>\n",
       "      <td>rs700518</td>\n",
       "      <td>CC</td>\n",
       "    </tr>\n",
       "    <tr>\n",
       "      <th>30</th>\n",
       "      <td>rs28364032</td>\n",
       "      <td>CC</td>\n",
       "    </tr>\n",
       "    <tr>\n",
       "      <th>31</th>\n",
       "      <td>rs28364032</td>\n",
       "      <td>CT</td>\n",
       "    </tr>\n",
       "    <tr>\n",
       "      <th>32</th>\n",
       "      <td>rs28364032</td>\n",
       "      <td>TT</td>\n",
       "    </tr>\n",
       "    <tr>\n",
       "      <th>33</th>\n",
       "      <td>rs746071566</td>\n",
       "      <td>GGAGTC/del</td>\n",
       "    </tr>\n",
       "    <tr>\n",
       "      <th>34</th>\n",
       "      <td>rs746071566</td>\n",
       "      <td>del/del</td>\n",
       "    </tr>\n",
       "    <tr>\n",
       "      <th>35</th>\n",
       "      <td>rs57064725</td>\n",
       "      <td>AA</td>\n",
       "    </tr>\n",
       "    <tr>\n",
       "      <th>36</th>\n",
       "      <td>rs57064725</td>\n",
       "      <td>AG</td>\n",
       "    </tr>\n",
       "    <tr>\n",
       "      <th>37</th>\n",
       "      <td>rs57064725</td>\n",
       "      <td>GG</td>\n",
       "    </tr>\n",
       "    <tr>\n",
       "      <th>38</th>\n",
       "      <td>rs72549309</td>\n",
       "      <td>ATGA/ATGA</td>\n",
       "    </tr>\n",
       "    <tr>\n",
       "      <th>39</th>\n",
       "      <td>rs72549309</td>\n",
       "      <td>ATGA/del</td>\n",
       "    </tr>\n",
       "    <tr>\n",
       "      <th>40</th>\n",
       "      <td>rs72549309</td>\n",
       "      <td>del/del</td>\n",
       "    </tr>\n",
       "    <tr>\n",
       "      <th>41</th>\n",
       "      <td>rs2228171</td>\n",
       "      <td>AA</td>\n",
       "    </tr>\n",
       "    <tr>\n",
       "      <th>42</th>\n",
       "      <td>rs2228171</td>\n",
       "      <td>AG</td>\n",
       "    </tr>\n",
       "    <tr>\n",
       "      <th>43</th>\n",
       "      <td>rs2228171</td>\n",
       "      <td>GG</td>\n",
       "    </tr>\n",
       "    <tr>\n",
       "      <th>44</th>\n",
       "      <td>rs111618861</td>\n",
       "      <td>A/A</td>\n",
       "    </tr>\n",
       "    <tr>\n",
       "      <th>45</th>\n",
       "      <td>rs111618861</td>\n",
       "      <td>A/del</td>\n",
       "    </tr>\n",
       "    <tr>\n",
       "      <th>46</th>\n",
       "      <td>rs111618861</td>\n",
       "      <td>del/del</td>\n",
       "    </tr>\n",
       "    <tr>\n",
       "      <th>47</th>\n",
       "      <td>rs201279313</td>\n",
       "      <td>TTA/TTA</td>\n",
       "    </tr>\n",
       "    <tr>\n",
       "      <th>48</th>\n",
       "      <td>rs201279313</td>\n",
       "      <td>TTA/del</td>\n",
       "    </tr>\n",
       "    <tr>\n",
       "      <th>49</th>\n",
       "      <td>rs201279313</td>\n",
       "      <td>del/del</td>\n",
       "    </tr>\n",
       "    <tr>\n",
       "      <th>50</th>\n",
       "      <td>rs61767072</td>\n",
       "      <td>GGGGCGGGGCCG/GGGGCGGGGCCG</td>\n",
       "    </tr>\n",
       "    <tr>\n",
       "      <th>51</th>\n",
       "      <td>rs61767072</td>\n",
       "      <td>GGGGCGGGGCCG/del</td>\n",
       "    </tr>\n",
       "    <tr>\n",
       "      <th>52</th>\n",
       "      <td>rs61767072</td>\n",
       "      <td>del/del</td>\n",
       "    </tr>\n",
       "    <tr>\n",
       "      <th>53</th>\n",
       "      <td>rs10170310</td>\n",
       "      <td>AA</td>\n",
       "    </tr>\n",
       "    <tr>\n",
       "      <th>54</th>\n",
       "      <td>rs10170310</td>\n",
       "      <td>AC</td>\n",
       "    </tr>\n",
       "    <tr>\n",
       "      <th>55</th>\n",
       "      <td>rs10170310</td>\n",
       "      <td>CC</td>\n",
       "    </tr>\n",
       "    <tr>\n",
       "      <th>56</th>\n",
       "      <td>rs746071566</td>\n",
       "      <td>GGAGTC/GGAGTC</td>\n",
       "    </tr>\n",
       "    <tr>\n",
       "      <th>57</th>\n",
       "      <td>rs746071566</td>\n",
       "      <td>GGAGTC/del</td>\n",
       "    </tr>\n",
       "    <tr>\n",
       "      <th>58</th>\n",
       "      <td>rs746071566</td>\n",
       "      <td>del/del</td>\n",
       "    </tr>\n",
       "  </tbody>\n",
       "</table>\n",
       "</div>"
      ],
      "text/plain": [
       "   Variant/Haplotypes                        Genotype/Allele\n",
       "0         rs746071566                          GGAGTC/GGAGTC\n",
       "1         rs746071566                             GGAGTC/del\n",
       "2         rs746071566                                del/del\n",
       "3          rs61767072              GGGGCGGGGCCG/GGGGCGGGGCCG\n",
       "4          rs61767072                       GGGGCGGGGCCG/del\n",
       "5          rs61767072                                del/del\n",
       "6           rs1048943                                     AA\n",
       "7           rs1048943                                     AG\n",
       "8           rs1048943                                     GG\n",
       "9          rs35068180                                  A/del\n",
       "10         rs35068180                                     AA\n",
       "11         rs35068180                                del/del\n",
       "12         rs35068180                                  A/del\n",
       "13         rs35068180                                     AA\n",
       "14         rs35068180                                del/del\n",
       "15         rs61824877                                     AA\n",
       "16         rs61824877                                     AT\n",
       "17         rs61824877                                     TT\n",
       "18         rs71486745                                  GT/GT\n",
       "19         rs71486745                                 GT/del\n",
       "20         rs71486745                                del/del\n",
       "21        rs144854329  GGTCCCACTCTTCCCACA/GGTCCCACTCTTCCCACA\n",
       "22        rs144854329                 GGTCCCACTCTTCCCACA/del\n",
       "23        rs144854329                                del/del\n",
       "24         rs17885382                                     AA\n",
       "25         rs17885382                                     AT\n",
       "26         rs17885382                                     TT\n",
       "27           rs700518                                     AA\n",
       "28           rs700518                                     AC\n",
       "29           rs700518                                     CC\n",
       "30         rs28364032                                     CC\n",
       "31         rs28364032                                     CT\n",
       "32         rs28364032                                     TT\n",
       "33        rs746071566                             GGAGTC/del\n",
       "34        rs746071566                                del/del\n",
       "35         rs57064725                                     AA\n",
       "36         rs57064725                                     AG\n",
       "37         rs57064725                                     GG\n",
       "38         rs72549309                              ATGA/ATGA\n",
       "39         rs72549309                               ATGA/del\n",
       "40         rs72549309                                del/del\n",
       "41          rs2228171                                     AA\n",
       "42          rs2228171                                     AG\n",
       "43          rs2228171                                     GG\n",
       "44        rs111618861                                    A/A\n",
       "45        rs111618861                                  A/del\n",
       "46        rs111618861                                del/del\n",
       "47        rs201279313                                TTA/TTA\n",
       "48        rs201279313                                TTA/del\n",
       "49        rs201279313                                del/del\n",
       "50         rs61767072              GGGGCGGGGCCG/GGGGCGGGGCCG\n",
       "51         rs61767072                       GGGGCGGGGCCG/del\n",
       "52         rs61767072                                del/del\n",
       "53         rs10170310                                     AA\n",
       "54         rs10170310                                     AC\n",
       "55         rs10170310                                     CC\n",
       "56        rs746071566                          GGAGTC/GGAGTC\n",
       "57        rs746071566                             GGAGTC/del\n",
       "58        rs746071566                                del/del"
      ]
     },
     "execution_count": 59,
     "metadata": {},
     "output_type": "execute_result"
    }
   ],
   "source": [
    "clinical_alleles_table.merge(clinical_annot_table[clinical_annot_table['Variant/Haplotypes'].isin(rs_ref_not_in_alleles)], on='Clinical Annotation ID')[['Variant/Haplotypes', 'Genotype/Allele']]"
   ]
  },
  {
   "cell_type": "code",
   "execution_count": null,
   "id": "12dada29-2a14-4992-acf4-45115aed57d2",
   "metadata": {
    "pycharm": {
     "name": "#%%\n"
    }
   },
   "outputs": [],
   "source": []
  }
 ],
 "metadata": {
  "kernelspec": {
   "display_name": "Python 3 (ipykernel)",
   "language": "python",
   "name": "python3"
  },
  "language_info": {
   "codemirror_mode": {
    "name": "ipython",
    "version": 3
   },
   "file_extension": ".py",
   "mimetype": "text/x-python",
   "name": "python",
   "nbconvert_exporter": "python",
   "pygments_lexer": "ipython3",
   "version": "3.8.10"
  }
 },
 "nbformat": 4,
 "nbformat_minor": 5
}